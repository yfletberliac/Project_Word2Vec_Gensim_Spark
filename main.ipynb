{
 "cells": [
  {
   "cell_type": "markdown",
   "metadata": {},
   "source": [
    "# Importations"
   ]
  },
  {
   "cell_type": "code",
   "execution_count": 2,
   "metadata": {
    "collapsed": true
   },
   "outputs": [],
   "source": [
    "from gensim.models.word2vec import Word2Vec\n",
    "import cPickle\n",
    "import numpy as np\n",
    "from math import sqrt\n",
    "%matplotlib inline"
   ]
  },
  {
   "cell_type": "markdown",
   "metadata": {},
   "source": [
    "# Training the model"
   ]
  },
  {
   "cell_type": "code",
   "execution_count": 3,
   "metadata": {
    "collapsed": false
   },
   "outputs": [],
   "source": [
    "model = Word2Vec.load_word2vec_format('GoogleNews-vectors-negative300.bin', binary=True)"
   ]
  },
  {
   "cell_type": "markdown",
   "metadata": {},
   "source": [
    "# Some tests"
   ]
  },
  {
   "cell_type": "code",
   "execution_count": null,
   "metadata": {
    "collapsed": false,
    "scrolled": true
   },
   "outputs": [],
   "source": [
    "model.most_similar(positive=['man', 'queen'], negative=['woman'], topn=5)"
   ]
  },
  {
   "cell_type": "code",
   "execution_count": null,
   "metadata": {
    "collapsed": true
   },
   "outputs": [],
   "source": []
  },
  {
   "cell_type": "code",
   "execution_count": null,
   "metadata": {
    "collapsed": false
   },
   "outputs": [],
   "source": [
    "# model.save_word2vec_format('GoogleNews-vectors-negative300.txt', binary=False)"
   ]
  },
  {
   "cell_type": "code",
   "execution_count": 4,
   "metadata": {
    "collapsed": false
   },
   "outputs": [
    {
     "data": {
      "text/plain": [
       "(3000000, 300)"
      ]
     },
     "execution_count": 4,
     "metadata": {},
     "output_type": "execute_result"
    }
   ],
   "source": [
    "model.syn0.shape"
   ]
  },
  {
   "cell_type": "code",
   "execution_count": 6,
   "metadata": {
    "collapsed": true
   },
   "outputs": [],
   "source": [
    "word_vectors = model.syn0[:1000]"
   ]
  },
  {
   "cell_type": "code",
   "execution_count": 9,
   "metadata": {
    "collapsed": true
   },
   "outputs": [],
   "source": [
    "num_clusters = word_vectors.shape[0] / 5"
   ]
  },
  {
   "cell_type": "code",
   "execution_count": 5,
   "metadata": {
    "collapsed": true
   },
   "outputs": [],
   "source": [
    "from pyspark.mllib.clustering import KMeans"
   ]
  },
  {
   "cell_type": "code",
   "execution_count": 7,
   "metadata": {
    "collapsed": false
   },
   "outputs": [],
   "source": [
    "vectors = sc.parallelize(word_vectors)"
   ]
  },
  {
   "cell_type": "code",
   "execution_count": 10,
   "metadata": {
    "collapsed": false
   },
   "outputs": [],
   "source": [
    "idx = KMeans.train(vectors, num_clusters, maxIterations=10, runs=30, initializationMode=\"random\")"
   ]
  },
  {
   "cell_type": "code",
   "execution_count": 11,
   "metadata": {
    "collapsed": false
   },
   "outputs": [],
   "source": [
    "word_centroid_map = dict(zip( model.index2word, idx.centers ))"
   ]
  },
  {
   "cell_type": "code",
   "execution_count": 12,
   "metadata": {
    "collapsed": false
   },
   "outputs": [
    {
     "name": "stdout",
     "output_type": "stream",
     "text": [
      "\n",
      "Cluster 0\n",
      "[u'all', u'help', u'just', u'being', u'percent', u'over', u'both', u'years', u'four', u'through', u'world', u'go', u'still', u'</s>', u'its', u'before', u'We', u'now', u'police', u'$', u'$', u'how', u'had', u'day', u'only', u'going', u'under', u'has', u'By', u'###', u'do', u'them', u'his', u'They', u'get', u'very', u'end', u'me', u'game', u'five', u'know', u'they', u'got', u'got', u'not', u'during', u'part', u'one', u'him', u'school', u'like', u'In', u'did', u\"'ve\", u'these', u'she', u'team', u'including', u'told', u'where', u'week', u'because', u'says', u'For', u'people', u'##', u'some', u'back', u'around', u'second', u'are', u'year', u'our', u'out', u'even', u'what', u'said', u'for', u'That', u'since', u'#-#', u'may', u'state', u'does', u'between', u'new', u'He', u'be', u'we', u'after', u'business', u'This', u'U.S.', u'million', u'based', u'by', u'on', u'on', u'about', u'last', u'her', u'##,###', u'many', u'could', u'against', u'or', u'first', u'into', u'There', u'three', u'down', u'right', u'But', u'another', u'old', u'should', u'your', u'your', u'market', u'long', u'from', u'would', u'there', u'two', u'been', u'next', u'their', u'much', u'way', u'AP', u'was', u'more', u'that', u'season', u'company', u'but', u'#,###', u'with', u'with', u'than', u'those', u'he', u'And', u'made', u'#.#', u'this', u'work', u'up', u'us', u'will', u'while', u\"'re\", u'can', u'were', u'country', u'my', u'say', u'want', u'then', u'is', u'it', u'an', u'high', u'as', u'good', u'at', u'have', u'in', u'need', u'any', u'if', u'information', u'%', u'no', u'make', u'government', u'when', u'1', u'also', u'other', u'take', u'take', u'which', u'you', u'A', u'play', u'#.##', u'see', u'I', u'who', u'####', u'most', u'such', u'The', u'off', u'third', u'home', u'well', u'It', u'think', u'points', u'so', u'time', u'the', u'left', u'If']\n",
      "\n",
      "Cluster 1\n",
      "[u'all', u'help', u'just', u'being', u'percent', u'over', u'both', u'years', u'four', u'through', u'world', u'go', u'still', u'</s>', u'its', u'before', u'We', u'now', u'police', u'$', u'$', u'how', u'had', u'day', u'only', u'going', u'under', u'has', u'By', u'###', u'do', u'them', u'his', u'They', u'get', u'very', u'end', u'me', u'game', u'five', u'know', u'they', u'got', u'got', u'not', u'during', u'part', u'one', u'him', u'school', u'like', u'In', u'did', u\"'ve\", u'these', u'she', u'team', u'including', u'told', u'where', u'week', u'because', u'says', u'For', u'people', u'##', u'some', u'back', u'around', u'second', u'are', u'year', u'our', u'out', u'even', u'what', u'said', u'for', u'That', u'since', u'#-#', u'may', u'state', u'does', u'between', u'new', u'He', u'be', u'we', u'after', u'business', u'This', u'U.S.', u'million', u'based', u'by', u'on', u'on', u'about', u'last', u'her', u'##,###', u'many', u'could', u'against', u'or', u'first', u'into', u'There', u'three', u'down', u'right', u'But', u'another', u'old', u'should', u'your', u'your', u'market', u'long', u'from', u'would', u'there', u'two', u'been', u'next', u'their', u'much', u'way', u'AP', u'was', u'more', u'that', u'season', u'company', u'but', u'#,###', u'with', u'with', u'than', u'those', u'he', u'And', u'made', u'#.#', u'this', u'work', u'up', u'us', u'will', u'while', u\"'re\", u'can', u'were', u'country', u'my', u'say', u'want', u'then', u'is', u'it', u'an', u'high', u'as', u'good', u'at', u'have', u'in', u'need', u'any', u'if', u'information', u'%', u'no', u'make', u'government', u'when', u'1', u'also', u'other', u'take', u'take', u'which', u'you', u'A', u'play', u'#.##', u'see', u'I', u'who', u'####', u'most', u'such', u'The', u'off', u'third', u'home', u'well', u'It', u'think', u'points', u'so', u'time', u'the', u'left', u'If']\n",
      "\n",
      "Cluster 2\n",
      "[u'all', u'help', u'just', u'being', u'percent', u'over', u'both', u'years', u'four', u'through', u'world', u'go', u'still', u'</s>', u'its', u'before', u'We', u'now', u'police', u'$', u'$', u'how', u'had', u'day', u'only', u'going', u'under', u'has', u'By', u'###', u'do', u'them', u'his', u'They', u'get', u'very', u'end', u'me', u'game', u'five', u'know', u'they', u'got', u'got', u'not', u'during', u'part', u'one', u'him', u'school', u'like', u'In', u'did', u\"'ve\", u'these', u'she', u'team', u'including', u'told', u'where', u'week', u'because', u'says', u'For', u'people', u'##', u'some', u'back', u'around', u'second', u'are', u'year', u'our', u'out', u'even', u'what', u'said', u'for', u'That', u'since', u'#-#', u'may', u'state', u'does', u'between', u'new', u'He', u'be', u'we', u'after', u'business', u'This', u'U.S.', u'million', u'based', u'by', u'on', u'on', u'about', u'last', u'her', u'##,###', u'many', u'could', u'against', u'or', u'first', u'into', u'There', u'three', u'down', u'right', u'But', u'another', u'old', u'should', u'your', u'your', u'market', u'long', u'from', u'would', u'there', u'two', u'been', u'next', u'their', u'much', u'way', u'AP', u'was', u'more', u'that', u'season', u'company', u'but', u'#,###', u'with', u'with', u'than', u'those', u'he', u'And', u'made', u'#.#', u'this', u'work', u'up', u'us', u'will', u'while', u\"'re\", u'can', u'were', u'country', u'my', u'say', u'want', u'then', u'is', u'it', u'an', u'high', u'as', u'good', u'at', u'have', u'in', u'need', u'any', u'if', u'information', u'%', u'no', u'make', u'government', u'when', u'1', u'also', u'other', u'take', u'take', u'which', u'you', u'A', u'play', u'#.##', u'see', u'I', u'who', u'####', u'most', u'such', u'The', u'off', u'third', u'home', u'well', u'It', u'think', u'points', u'so', u'time', u'the', u'left', u'If']\n",
      "\n",
      "Cluster 3\n",
      "[u'all', u'help', u'just', u'being', u'percent', u'over', u'both', u'years', u'four', u'through', u'world', u'go', u'still', u'</s>', u'its', u'before', u'We', u'now', u'police', u'$', u'$', u'how', u'had', u'day', u'only', u'going', u'under', u'has', u'By', u'###', u'do', u'them', u'his', u'They', u'get', u'very', u'end', u'me', u'game', u'five', u'know', u'they', u'got', u'got', u'not', u'during', u'part', u'one', u'him', u'school', u'like', u'In', u'did', u\"'ve\", u'these', u'she', u'team', u'including', u'told', u'where', u'week', u'because', u'says', u'For', u'people', u'##', u'some', u'back', u'around', u'second', u'are', u'year', u'our', u'out', u'even', u'what', u'said', u'for', u'That', u'since', u'#-#', u'may', u'state', u'does', u'between', u'new', u'He', u'be', u'we', u'after', u'business', u'This', u'U.S.', u'million', u'based', u'by', u'on', u'on', u'about', u'last', u'her', u'##,###', u'many', u'could', u'against', u'or', u'first', u'into', u'There', u'three', u'down', u'right', u'But', u'another', u'old', u'should', u'your', u'your', u'market', u'long', u'from', u'would', u'there', u'two', u'been', u'next', u'their', u'much', u'way', u'AP', u'was', u'more', u'that', u'season', u'company', u'but', u'#,###', u'with', u'with', u'than', u'those', u'he', u'And', u'made', u'#.#', u'this', u'work', u'up', u'us', u'will', u'while', u\"'re\", u'can', u'were', u'country', u'my', u'say', u'want', u'then', u'is', u'it', u'an', u'high', u'as', u'good', u'at', u'have', u'in', u'need', u'any', u'if', u'information', u'%', u'no', u'make', u'government', u'when', u'1', u'also', u'other', u'take', u'take', u'which', u'you', u'A', u'play', u'#.##', u'see', u'I', u'who', u'####', u'most', u'such', u'The', u'off', u'third', u'home', u'well', u'It', u'think', u'points', u'so', u'time', u'the', u'left', u'If']\n",
      "\n",
      "Cluster 4\n",
      "[u'all', u'help', u'just', u'being', u'percent', u'over', u'both', u'years', u'four', u'through', u'world', u'go', u'still', u'</s>', u'its', u'before', u'We', u'now', u'police', u'$', u'$', u'how', u'had', u'day', u'only', u'going', u'under', u'has', u'By', u'###', u'do', u'them', u'his', u'They', u'get', u'very', u'end', u'me', u'game', u'five', u'know', u'they', u'got', u'got', u'not', u'during', u'part', u'one', u'him', u'school', u'like', u'In', u'did', u\"'ve\", u'these', u'she', u'team', u'including', u'told', u'where', u'week', u'because', u'says', u'For', u'people', u'##', u'some', u'back', u'around', u'second', u'are', u'year', u'our', u'out', u'even', u'what', u'said', u'for', u'That', u'since', u'#-#', u'may', u'state', u'does', u'between', u'new', u'He', u'be', u'we', u'after', u'business', u'This', u'U.S.', u'million', u'based', u'by', u'on', u'on', u'about', u'last', u'her', u'##,###', u'many', u'could', u'against', u'or', u'first', u'into', u'There', u'three', u'down', u'right', u'But', u'another', u'old', u'should', u'your', u'your', u'market', u'long', u'from', u'would', u'there', u'two', u'been', u'next', u'their', u'much', u'way', u'AP', u'was', u'more', u'that', u'season', u'company', u'but', u'#,###', u'with', u'with', u'than', u'those', u'he', u'And', u'made', u'#.#', u'this', u'work', u'up', u'us', u'will', u'while', u\"'re\", u'can', u'were', u'country', u'my', u'say', u'want', u'then', u'is', u'it', u'an', u'high', u'as', u'good', u'at', u'have', u'in', u'need', u'any', u'if', u'information', u'%', u'no', u'make', u'government', u'when', u'1', u'also', u'other', u'take', u'take', u'which', u'you', u'A', u'play', u'#.##', u'see', u'I', u'who', u'####', u'most', u'such', u'The', u'off', u'third', u'home', u'well', u'It', u'think', u'points', u'so', u'time', u'the', u'left', u'If']\n",
      "\n",
      "Cluster 5\n",
      "[u'all', u'help', u'just', u'being', u'percent', u'over', u'both', u'years', u'four', u'through', u'world', u'go', u'still', u'</s>', u'its', u'before', u'We', u'now', u'police', u'$', u'$', u'how', u'had', u'day', u'only', u'going', u'under', u'has', u'By', u'###', u'do', u'them', u'his', u'They', u'get', u'very', u'end', u'me', u'game', u'five', u'know', u'they', u'got', u'got', u'not', u'during', u'part', u'one', u'him', u'school', u'like', u'In', u'did', u\"'ve\", u'these', u'she', u'team', u'including', u'told', u'where', u'week', u'because', u'says', u'For', u'people', u'##', u'some', u'back', u'around', u'second', u'are', u'year', u'our', u'out', u'even', u'what', u'said', u'for', u'That', u'since', u'#-#', u'may', u'state', u'does', u'between', u'new', u'He', u'be', u'we', u'after', u'business', u'This', u'U.S.', u'million', u'based', u'by', u'on', u'on', u'about', u'last', u'her', u'##,###', u'many', u'could', u'against', u'or', u'first', u'into', u'There', u'three', u'down', u'right', u'But', u'another', u'old', u'should', u'your', u'your', u'market', u'long', u'from', u'would', u'there', u'two', u'been', u'next', u'their', u'much', u'way', u'AP', u'was', u'more', u'that', u'season', u'company', u'but', u'#,###', u'with', u'with', u'than', u'those', u'he', u'And', u'made', u'#.#', u'this', u'work', u'up', u'us', u'will', u'while', u\"'re\", u'can', u'were', u'country', u'my', u'say', u'want', u'then', u'is', u'it', u'an', u'high', u'as', u'good', u'at', u'have', u'in', u'need', u'any', u'if', u'information', u'%', u'no', u'make', u'government', u'when', u'1', u'also', u'other', u'take', u'take', u'which', u'you', u'A', u'play', u'#.##', u'see', u'I', u'who', u'####', u'most', u'such', u'The', u'off', u'third', u'home', u'well', u'It', u'think', u'points', u'so', u'time', u'the', u'left', u'If']\n",
      "\n",
      "Cluster 6\n",
      "[u'all', u'help', u'just', u'being', u'percent', u'over', u'both', u'years', u'four', u'through', u'world', u'go', u'still', u'</s>', u'its', u'before', u'We', u'now', u'police', u'$', u'$', u'how', u'had', u'day', u'only', u'going', u'under', u'has', u'By', u'###', u'do', u'them', u'his', u'They', u'get', u'very', u'end', u'me', u'game', u'five', u'know', u'they', u'got', u'got', u'not', u'during', u'part', u'one', u'him', u'school', u'like', u'In', u'did', u\"'ve\", u'these', u'she', u'team', u'including', u'told', u'where', u'week', u'because', u'says', u'For', u'people', u'##', u'some', u'back', u'around', u'second', u'are', u'year', u'our', u'out', u'even', u'what', u'said', u'for', u'That', u'since', u'#-#', u'may', u'state', u'does', u'between', u'new', u'He', u'be', u'we', u'after', u'business', u'This', u'U.S.', u'million', u'based', u'by', u'on', u'on', u'about', u'last', u'her', u'##,###', u'many', u'could', u'against', u'or', u'first', u'into', u'There', u'three', u'down', u'right', u'But', u'another', u'old', u'should', u'your', u'your', u'market', u'long', u'from', u'would', u'there', u'two', u'been', u'next', u'their', u'much', u'way', u'AP', u'was', u'more', u'that', u'season', u'company', u'but', u'#,###', u'with', u'with', u'than', u'those', u'he', u'And', u'made', u'#.#', u'this', u'work', u'up', u'us', u'will', u'while', u\"'re\", u'can', u'were', u'country', u'my', u'say', u'want', u'then', u'is', u'it', u'an', u'high', u'as', u'good', u'at', u'have', u'in', u'need', u'any', u'if', u'information', u'%', u'no', u'make', u'government', u'when', u'1', u'also', u'other', u'take', u'take', u'which', u'you', u'A', u'play', u'#.##', u'see', u'I', u'who', u'####', u'most', u'such', u'The', u'off', u'third', u'home', u'well', u'It', u'think', u'points', u'so', u'time', u'the', u'left', u'If']\n",
      "\n",
      "Cluster 7\n",
      "[u'all', u'help', u'just', u'being', u'percent', u'over', u'both', u'years', u'four', u'through', u'world', u'go', u'still', u'</s>', u'its', u'before', u'We', u'now', u'police', u'$', u'$', u'how', u'had', u'day', u'only', u'going', u'under', u'has', u'By', u'###', u'do', u'them', u'his', u'They', u'get', u'very', u'end', u'me', u'game', u'five', u'know', u'they', u'got', u'got', u'not', u'during', u'part', u'one', u'him', u'school', u'like', u'In', u'did', u\"'ve\", u'these', u'she', u'team', u'including', u'told', u'where', u'week', u'because', u'says', u'For', u'people', u'##', u'some', u'back', u'around', u'second', u'are', u'year', u'our', u'out', u'even', u'what', u'said', u'for', u'That', u'since', u'#-#', u'may', u'state', u'does', u'between', u'new', u'He', u'be', u'we', u'after', u'business', u'This', u'U.S.', u'million', u'based', u'by', u'on', u'on', u'about', u'last', u'her', u'##,###', u'many', u'could', u'against', u'or', u'first', u'into', u'There', u'three', u'down', u'right', u'But', u'another', u'old', u'should', u'your', u'your', u'market', u'long', u'from', u'would', u'there', u'two', u'been', u'next', u'their', u'much', u'way', u'AP', u'was', u'more', u'that', u'season', u'company', u'but', u'#,###', u'with', u'with', u'than', u'those', u'he', u'And', u'made', u'#.#', u'this', u'work', u'up', u'us', u'will', u'while', u\"'re\", u'can', u'were', u'country', u'my', u'say', u'want', u'then', u'is', u'it', u'an', u'high', u'as', u'good', u'at', u'have', u'in', u'need', u'any', u'if', u'information', u'%', u'no', u'make', u'government', u'when', u'1', u'also', u'other', u'take', u'take', u'which', u'you', u'A', u'play', u'#.##', u'see', u'I', u'who', u'####', u'most', u'such', u'The', u'off', u'third', u'home', u'well', u'It', u'think', u'points', u'so', u'time', u'the', u'left', u'If']\n",
      "\n",
      "Cluster 8\n",
      "[u'all', u'help', u'just', u'being', u'percent', u'over', u'both', u'years', u'four', u'through', u'world', u'go', u'still', u'</s>', u'its', u'before', u'We', u'now', u'police', u'$', u'$', u'how', u'had', u'day', u'only', u'going', u'under', u'has', u'By', u'###', u'do', u'them', u'his', u'They', u'get', u'very', u'end', u'me', u'game', u'five', u'know', u'they', u'got', u'got', u'not', u'during', u'part', u'one', u'him', u'school', u'like', u'In', u'did', u\"'ve\", u'these', u'she', u'team', u'including', u'told', u'where', u'week', u'because', u'says', u'For', u'people', u'##', u'some', u'back', u'around', u'second', u'are', u'year', u'our', u'out', u'even', u'what', u'said', u'for', u'That', u'since', u'#-#', u'may', u'state', u'does', u'between', u'new', u'He', u'be', u'we', u'after', u'business', u'This', u'U.S.', u'million', u'based', u'by', u'on', u'on', u'about', u'last', u'her', u'##,###', u'many', u'could', u'against', u'or', u'first', u'into', u'There', u'three', u'down', u'right', u'But', u'another', u'old', u'should', u'your', u'your', u'market', u'long', u'from', u'would', u'there', u'two', u'been', u'next', u'their', u'much', u'way', u'AP', u'was', u'more', u'that', u'season', u'company', u'but', u'#,###', u'with', u'with', u'than', u'those', u'he', u'And', u'made', u'#.#', u'this', u'work', u'up', u'us', u'will', u'while', u\"'re\", u'can', u'were', u'country', u'my', u'say', u'want', u'then', u'is', u'it', u'an', u'high', u'as', u'good', u'at', u'have', u'in', u'need', u'any', u'if', u'information', u'%', u'no', u'make', u'government', u'when', u'1', u'also', u'other', u'take', u'take', u'which', u'you', u'A', u'play', u'#.##', u'see', u'I', u'who', u'####', u'most', u'such', u'The', u'off', u'third', u'home', u'well', u'It', u'think', u'points', u'so', u'time', u'the', u'left', u'If']\n",
      "\n",
      "Cluster 9\n",
      "[u'all', u'help', u'just', u'being', u'percent', u'over', u'both', u'years', u'four', u'through', u'world', u'go', u'still', u'</s>', u'its', u'before', u'We', u'now', u'police', u'$', u'$', u'how', u'had', u'day', u'only', u'going', u'under', u'has', u'By', u'###', u'do', u'them', u'his', u'They', u'get', u'very', u'end', u'me', u'game', u'five', u'know', u'they', u'got', u'got', u'not', u'during', u'part', u'one', u'him', u'school', u'like', u'In', u'did', u\"'ve\", u'these', u'she', u'team', u'including', u'told', u'where', u'week', u'because', u'says', u'For', u'people', u'##', u'some', u'back', u'around', u'second', u'are', u'year', u'our', u'out', u'even', u'what', u'said', u'for', u'That', u'since', u'#-#', u'may', u'state', u'does', u'between', u'new', u'He', u'be', u'we', u'after', u'business', u'This', u'U.S.', u'million', u'based', u'by', u'on', u'on', u'about', u'last', u'her', u'##,###', u'many', u'could', u'against', u'or', u'first', u'into', u'There', u'three', u'down', u'right', u'But', u'another', u'old', u'should', u'your', u'your', u'market', u'long', u'from', u'would', u'there', u'two', u'been', u'next', u'their', u'much', u'way', u'AP', u'was', u'more', u'that', u'season', u'company', u'but', u'#,###', u'with', u'with', u'than', u'those', u'he', u'And', u'made', u'#.#', u'this', u'work', u'up', u'us', u'will', u'while', u\"'re\", u'can', u'were', u'country', u'my', u'say', u'want', u'then', u'is', u'it', u'an', u'high', u'as', u'good', u'at', u'have', u'in', u'need', u'any', u'if', u'information', u'%', u'no', u'make', u'government', u'when', u'1', u'also', u'other', u'take', u'take', u'which', u'you', u'A', u'play', u'#.##', u'see', u'I', u'who', u'####', u'most', u'such', u'The', u'off', u'third', u'home', u'well', u'It', u'think', u'points', u'so', u'time', u'the', u'left', u'If']\n"
     ]
    }
   ],
   "source": [
    "# For the first 10 clusters\n",
    "for cluster in xrange(0,10):\n",
    "    #\n",
    "    # Print the cluster number  \n",
    "    print \"\\nCluster %d\" % cluster\n",
    "    #\n",
    "    # Find all of the words for that cluster number, and print them out\n",
    "    words = []\n",
    "    for i in xrange(0,len(word_centroid_map.values())):\n",
    "        for j in xrange(0,len(word_centroid_map.values())):\n",
    "            if( sum(word_centroid_map.values()[i]) == sum(word_centroid_map.values()[j]) ):\n",
    "                words.append(word_centroid_map.keys()[i])\n",
    "    print words"
   ]
  },
  {
   "cell_type": "code",
   "execution_count": 25,
   "metadata": {
    "collapsed": false
   },
   "outputs": [
    {
     "ename": "TypeError",
     "evalue": "unhashable type: 'numpy.ndarray'",
     "output_type": "error",
     "traceback": [
      "\u001b[0;31m---------------------------------------------------------------------------\u001b[0m",
      "\u001b[0;31mTypeError\u001b[0m                                 Traceback (most recent call last)",
      "\u001b[0;32m<ipython-input-25-be46ca6c8721>\u001b[0m in \u001b[0;36m<module>\u001b[0;34m()\u001b[0m\n\u001b[0;32m----> 1\u001b[0;31m \u001b[0mset\u001b[0m\u001b[0;34m(\u001b[0m\u001b[0midx\u001b[0m\u001b[0;34m.\u001b[0m\u001b[0mcenters\u001b[0m\u001b[0;34m)\u001b[0m\u001b[0;34m\u001b[0m\u001b[0m\n\u001b[0m",
      "\u001b[0;31mTypeError\u001b[0m: unhashable type: 'numpy.ndarray'"
     ]
    }
   ],
   "source": []
  },
  {
   "cell_type": "markdown",
   "metadata": {},
   "source": [
    "# Storing in a dict"
   ]
  },
  {
   "cell_type": "code",
   "execution_count": null,
   "metadata": {
    "collapsed": false
   },
   "outputs": [],
   "source": [
    "word2vec_dict={}\n",
    "for i in model.vocab.keys():\n",
    "    try:\n",
    "        word2vec_dict[i]=model[i]\n",
    "    except:\n",
    "        pass"
   ]
  },
  {
   "cell_type": "code",
   "execution_count": null,
   "metadata": {
    "collapsed": false,
    "scrolled": true
   },
   "outputs": [],
   "source": [
    "f = file('dict.save', 'wb')\n",
    "cPickle.dump(word2vec_dict, f, protocol=cPickle.HIGHEST_PROTOCOL)\n",
    "f.close()"
   ]
  },
  {
   "cell_type": "code",
   "execution_count": null,
   "metadata": {
    "collapsed": false
   },
   "outputs": [],
   "source": [
    "indextokey=dict()\n",
    "i=0\n",
    "for keys, values in word2vec_dict.iteritems():\n",
    "    indextokey[i]=keys\n",
    "    i+=1"
   ]
  },
  {
   "cell_type": "code",
   "execution_count": null,
   "metadata": {
    "collapsed": false
   },
   "outputs": [],
   "source": [
    "indextovalue=dict()\n",
    "i=0\n",
    "for keys, values in word2vec_dict.iteritems():\n",
    "    indextovalue[i]=values\n",
    "    i+=1"
   ]
  },
  {
   "cell_type": "markdown",
   "metadata": {},
   "source": [
    "---------"
   ]
  },
  {
   "cell_type": "markdown",
   "metadata": {},
   "source": [
    "# Loading the dict"
   ]
  },
  {
   "cell_type": "code",
   "execution_count": null,
   "metadata": {
    "collapsed": true
   },
   "outputs": [],
   "source": [
    "f = file('dict.save', 'rb')\n",
    "word2vec_dict = cPickle.load(f)\n",
    "f.close()"
   ]
  },
  {
   "cell_type": "code",
   "execution_count": null,
   "metadata": {
    "collapsed": true
   },
   "outputs": [],
   "source": []
  },
  {
   "cell_type": "code",
   "execution_count": null,
   "metadata": {
    "collapsed": true
   },
   "outputs": [],
   "source": [
    "from sklearn.cluster import MiniBatchKMeans\n",
    "from sklearn.cluster import AgglomerativeClustering"
   ]
  },
  {
   "cell_type": "code",
   "execution_count": null,
   "metadata": {
    "collapsed": true
   },
   "outputs": [],
   "source": [
    "clusters = MiniBatchKMeans(n_clusters=100, max_iter=3,batch_size=200,\n",
    "                        n_init=1,init_size=2000)\n",
    "X = np.array([i.T for i in word2vec_dict.itervalues()])\n",
    "y = [i for i in word2vec_dict.iterkeys()]\n",
    "clusters.fit(X)\n",
    "from collections import defaultdict\n",
    "cluster_dict=defaultdict(list)\n",
    "for word,label in zip(y,clusters.labels_):\n",
    "    cluster_dict[label].append(word)"
   ]
  },
  {
   "cell_type": "code",
   "execution_count": null,
   "metadata": {
    "collapsed": false
   },
   "outputs": [],
   "source": [
    "type(model)"
   ]
  },
  {
   "cell_type": "code",
   "execution_count": null,
   "metadata": {
    "collapsed": false
   },
   "outputs": [],
   "source": [
    "model[\"house\"]"
   ]
  },
  {
   "cell_type": "markdown",
   "metadata": {},
   "source": [
    "# Using Spark"
   ]
  },
  {
   "cell_type": "code",
   "execution_count": null,
   "metadata": {
    "collapsed": false
   },
   "outputs": [],
   "source": [
    "from pyspark import SparkContext\n",
    "from pyspark.mllib.clustering import KMeans, KMeansModel"
   ]
  },
  {
   "cell_type": "markdown",
   "metadata": {},
   "source": [
    "# Test SparkContext"
   ]
  },
  {
   "cell_type": "code",
   "execution_count": null,
   "metadata": {
    "collapsed": false
   },
   "outputs": [],
   "source": [
    "sc"
   ]
  },
  {
   "cell_type": "markdown",
   "metadata": {},
   "source": [
    "#### cool, that works"
   ]
  },
  {
   "cell_type": "code",
   "execution_count": null,
   "metadata": {
    "collapsed": false
   },
   "outputs": [],
   "source": [
    "model_cluster = KMeans.train(b, 100, maxIterations=10, runs=30, initializationMode=\"random\")"
   ]
  },
  {
   "cell_type": "code",
   "execution_count": null,
   "metadata": {
    "collapsed": false
   },
   "outputs": [],
   "source": [
    "sc"
   ]
  },
  {
   "cell_type": "code",
   "execution_count": null,
   "metadata": {
    "collapsed": true
   },
   "outputs": [],
   "source": [
    "from itertools import islice\n",
    "\n",
    "def take(n, iterable):\n",
    "    \"Return first n items of the iterable as a list\"\n",
    "    return list(islice(iterable, n))"
   ]
  },
  {
   "cell_type": "code",
   "execution_count": null,
   "metadata": {
    "collapsed": false
   },
   "outputs": [],
   "source": [
    "n_items = take(10000, indextovalue.itervalues())"
   ]
  },
  {
   "cell_type": "code",
   "execution_count": null,
   "metadata": {
    "collapsed": false
   },
   "outputs": [],
   "source": [
    "a=np.array(n_items).reshape(10000,300)"
   ]
  },
  {
   "cell_type": "code",
   "execution_count": null,
   "metadata": {
    "collapsed": false
   },
   "outputs": [],
   "source": [
    "b=sc.parallelize(a)"
   ]
  },
  {
   "cell_type": "code",
   "execution_count": null,
   "metadata": {
    "collapsed": false
   },
   "outputs": [],
   "source": [
    "a.flatMap(lambda x: x.items())"
   ]
  },
  {
   "cell_type": "code",
   "execution_count": null,
   "metadata": {
    "collapsed": false
   },
   "outputs": [],
   "source": [
    "a"
   ]
  },
  {
   "cell_type": "code",
   "execution_count": null,
   "metadata": {
    "collapsed": false
   },
   "outputs": [],
   "source": [
    "len(n_items[4])"
   ]
  },
  {
   "cell_type": "code",
   "execution_count": null,
   "metadata": {
    "collapsed": false
   },
   "outputs": [],
   "source": [
    "a=[item for sublist in n_items for item in sublist]"
   ]
  },
  {
   "cell_type": "code",
   "execution_count": null,
   "metadata": {
    "collapsed": true
   },
   "outputs": [],
   "source": [
    "b=sc.parallelize(a)"
   ]
  },
  {
   "cell_type": "code",
   "execution_count": null,
   "metadata": {
    "collapsed": false
   },
   "outputs": [],
   "source": [
    "from sklearn.manifold import TSNE\n",
    "import matplotlib.pyplot as plt\n",
    "\n",
    "ts = TSNE(2)\n",
    "reduced_vecs = ts.fit_transform(model_cluster.clusterCenters)"
   ]
  },
  {
   "cell_type": "code",
   "execution_count": null,
   "metadata": {
    "collapsed": false
   },
   "outputs": [],
   "source": [
    "for i in range (len(reduced_vecs)):\n",
    "    plt.plot(reduced_vecs[i,0], reduced_vecs[i,1], marker='.', markersize=8)"
   ]
  },
  {
   "cell_type": "code",
   "execution_count": null,
   "metadata": {
    "collapsed": false
   },
   "outputs": [],
   "source": [
    "def error(point):\n",
    "    center = model_cluster.centers[model_cluster.predict(point)]\n",
    "    return sqrt(sum([x**2 for x in (point - center)]))\n",
    "\n",
    "WSSSE = b.map(lambda point: error(point)).reduce(lambda x, y: x + y)\n",
    "print(\"Within Set Sum of Squared Error = \" + str(WSSSE))"
   ]
  },
  {
   "cell_type": "code",
   "execution_count": null,
   "metadata": {
    "collapsed": false
   },
   "outputs": [],
   "source": []
  },
  {
   "cell_type": "code",
   "execution_count": null,
   "metadata": {
    "collapsed": false
   },
   "outputs": [],
   "source": [
    "len(reduced_vecs)"
   ]
  },
  {
   "cell_type": "code",
   "execution_count": null,
   "metadata": {
    "collapsed": true
   },
   "outputs": [],
   "source": []
  }
 ],
 "metadata": {
  "kernelspec": {
   "display_name": "Python 2",
   "language": "python",
   "name": "python2"
  },
  "language_info": {
   "codemirror_mode": {
    "name": "ipython",
    "version": 2
   },
   "file_extension": ".py",
   "mimetype": "text/x-python",
   "name": "python",
   "nbconvert_exporter": "python",
   "pygments_lexer": "ipython2",
   "version": "2.7.10"
  }
 },
 "nbformat": 4,
 "nbformat_minor": 0
}
